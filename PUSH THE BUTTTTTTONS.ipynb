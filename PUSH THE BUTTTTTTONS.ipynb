{
 "cells": [
  {
   "cell_type": "code",
   "execution_count": 13,
   "id": "20bcbb53",
   "metadata": {},
   "outputs": [
    {
     "name": "stdout",
     "output_type": "stream",
     "text": [
      "new sparkprob is 1\n"
     ]
    }
   ],
   "source": [
    "sparkprob = 1\n",
    "\n",
    "redis_set(sparkprob=sparkprob)\n",
    "print(\"new sparkprob is {}\".format(int(redis_get(\"sparkprob\")[0])))"
   ]
  },
  {
   "cell_type": "markdown",
   "id": "6c0acb8f",
   "metadata": {},
   "source": [
    "# SET THE BPM"
   ]
  },
  {
   "cell_type": "code",
   "execution_count": 178,
   "id": "16e9e196",
   "metadata": {},
   "outputs": [
    {
     "name": "stdout",
     "output_type": "stream",
     "text": [
      "new BPM is 18\n"
     ]
    }
   ],
   "source": [
    "bpm = 18\n",
    "\n",
    "redis_set(bpm=bpm)\n",
    "print(\"new BPM is {}\".format(int(redis_get(\"bpm\")[0])))"
   ]
  },
  {
   "cell_type": "markdown",
   "id": "9ded7758",
   "metadata": {},
   "source": [
    "# MAKE IT FASTER"
   ]
  },
  {
   "cell_type": "code",
   "execution_count": 142,
   "id": "f2b5978d",
   "metadata": {},
   "outputs": [
    {
     "name": "stdout",
     "output_type": "stream",
     "text": [
      "new BPM is 360\n"
     ]
    }
   ],
   "source": [
    "redis_set(bpm=int(redis_get(\"bpm\")[0]) + 10)\n",
    "print(\"new BPM is {}\".format(int(redis_get(\"bpm\")[0])))"
   ]
  },
  {
   "cell_type": "markdown",
   "id": "18ef9df8",
   "metadata": {},
   "source": [
    "# MAKE IT SLOWER"
   ]
  },
  {
   "cell_type": "code",
   "execution_count": 166,
   "id": "f7c3c7e9",
   "metadata": {},
   "outputs": [
    {
     "name": "stdout",
     "output_type": "stream",
     "text": [
      "new BPM is 120\n"
     ]
    }
   ],
   "source": [
    "redis_set(bpm=max(1, int(redis_get(\"bpm\")[0]) - 10))\n",
    "print(\"new BPM is {}\".format(int(redis_get(\"bpm\")[0])))"
   ]
  },
  {
   "cell_type": "markdown",
   "id": "17919faa",
   "metadata": {},
   "source": [
    "# TOGGLE THE STROBE"
   ]
  },
  {
   "cell_type": "code",
   "execution_count": 171,
   "id": "03e6395c",
   "metadata": {},
   "outputs": [
    {
     "name": "stdout",
     "output_type": "stream",
     "text": [
      "strobe is OFF\n"
     ]
    }
   ],
   "source": [
    "redis_set(show_flash=1 - int(redis_get(\"show_flash\")[0]))\n",
    "print(\"strobe is \" + (\"ON\" if bool(int(redis_get(\"show_flash\")[0])) else \"OFF\"))"
   ]
  },
  {
   "cell_type": "markdown",
   "id": "6de4aab8",
   "metadata": {},
   "source": [
    "# TOGGLE THE FIREBALL LAUNCHER"
   ]
  },
  {
   "cell_type": "code",
   "execution_count": 174,
   "id": "eb50f251",
   "metadata": {},
   "outputs": [
    {
     "name": "stdout",
     "output_type": "stream",
     "text": [
      "fireball launcher is OFF\n"
     ]
    }
   ],
   "source": [
    "redis_set(show_launcher=1 - int(redis_get(\"show_launcher\")[0]))\n",
    "print(\"fireball launcher is \" + (\"ON\" if bool(int(redis_get(\"show_launcher\")[0])) else \"OFF\"))"
   ]
  },
  {
   "cell_type": "markdown",
   "id": "97d1e8eb",
   "metadata": {},
   "source": [
    "# TOGGLE LOOPER 1"
   ]
  },
  {
   "cell_type": "code",
   "execution_count": 175,
   "id": "ba7d2280",
   "metadata": {},
   "outputs": [
    {
     "name": "stdout",
     "output_type": "stream",
     "text": [
      "looper 1 is ON\n"
     ]
    }
   ],
   "source": [
    "redis_set(show_lb_1=1 - int(redis_get(\"show_lb_1\")[0]))\n",
    "print(\"looper 1 is \" + (\"ON\" if bool(int(redis_get(\"show_lb_1\")[0])) else \"OFF\"))"
   ]
  },
  {
   "cell_type": "markdown",
   "id": "0665910f",
   "metadata": {},
   "source": [
    "# TOGGLE LOOPER 2"
   ]
  },
  {
   "cell_type": "code",
   "execution_count": 176,
   "id": "b1979148",
   "metadata": {},
   "outputs": [
    {
     "name": "stdout",
     "output_type": "stream",
     "text": [
      "looper 2 is ON\n"
     ]
    }
   ],
   "source": [
    "redis_set(show_lb_2=1 - int(redis_get(\"show_lb_2\")[0]))\n",
    "print(\"looper 2 is \" + (\"ON\" if bool(int(redis_get(\"show_lb_2\")[0])) else \"OFF\"))"
   ]
  },
  {
   "cell_type": "markdown",
   "id": "f3090cc4",
   "metadata": {},
   "source": [
    "# SET LOOPER 1 HUE"
   ]
  },
  {
   "cell_type": "code",
   "execution_count": 28,
   "id": "f74891dc",
   "metadata": {},
   "outputs": [
    {
     "name": "stdout",
     "output_type": "stream",
     "text": [
      "looper 1 hue is 80\n"
     ]
    }
   ],
   "source": [
    "lb_1_hue = 80\n",
    "redis_set(lb_1_hue=lb_1_hue)\n",
    "print(\"looper 1 hue is {}\".format(int(redis_get(\"lb_1_hue\")[0])))"
   ]
  },
  {
   "cell_type": "markdown",
   "id": "cbf4be16",
   "metadata": {},
   "source": [
    "# MESS WITH THE LOOPER HUES"
   ]
  },
  {
   "cell_type": "code",
   "execution_count": 115,
   "id": "4468c2c4",
   "metadata": {},
   "outputs": [
    {
     "name": "stdout",
     "output_type": "stream",
     "text": [
      "looper 1 hue is 137\n",
      "looper 2 hue is 123\n"
     ]
    }
   ],
   "source": [
    "new_lb_1_hue = (int(redis_get(\"lb_1_hue\")[0]) - 33) % 255\n",
    "new_lb_2_hue = (int(redis_get(\"lb_2_hue\")[0]) - 33) % 255\n",
    "\n",
    "\n",
    "redis_set(lb_1_hue=new_lb_1_hue, lb_2_hue=new_lb_2_hue)\n",
    "print(\"looper 1 hue is {}\".format(int(redis_get(\"lb_1_hue\")[0])))\n",
    "print(\"looper 2 hue is {}\".format(int(redis_get(\"lb_2_hue\")[0])))"
   ]
  },
  {
   "cell_type": "markdown",
   "id": "c76ba82b",
   "metadata": {},
   "source": [
    "# SET LOOPER 2 HUE"
   ]
  },
  {
   "cell_type": "code",
   "execution_count": 111,
   "id": "efdcfd3c",
   "metadata": {},
   "outputs": [
    {
     "name": "stdout",
     "output_type": "stream",
     "text": [
      "looper 2 hue is 0\n"
     ]
    }
   ],
   "source": [
    "lb_2_hue = 0\n",
    "\n",
    "redis_set(lb_2_hue=lb_2_hue)\n",
    "print(\"looper 2 hue is {}\".format(int(redis_get(\"lb_2_hue\")[0])))"
   ]
  },
  {
   "cell_type": "markdown",
   "id": "9778368d",
   "metadata": {},
   "source": [
    "# MAKE LOOPERS OPPOSITE COLORS"
   ]
  },
  {
   "cell_type": "code",
   "execution_count": 503,
   "id": "905b5996",
   "metadata": {},
   "outputs": [
    {
     "name": "stdout",
     "output_type": "stream",
     "text": [
      "looper 1 hue is 251\n",
      "looper 2 hue is 124\n"
     ]
    }
   ],
   "source": [
    "new_lb2_hue = (int(redis_get(\"lb_1_hue\")[0]) + 128) % 255\n",
    "redis_set(lb_2_hue=new_lb2_hue)\n",
    "print(\"looper 1 hue is {}\".format(int(redis_get(\"lb_1_hue\")[0])))\n",
    "print(\"looper 2 hue is {}\".format(int(redis_get(\"lb_2_hue\")[0])))"
   ]
  },
  {
   "cell_type": "markdown",
   "id": "4a58d76e",
   "metadata": {},
   "source": [
    "# MAKE LOOPERS SAME COLOR"
   ]
  },
  {
   "cell_type": "code",
   "execution_count": 109,
   "id": "a92bc6b0",
   "metadata": {},
   "outputs": [
    {
     "name": "stdout",
     "output_type": "stream",
     "text": [
      "looper 1 hue is 47\n",
      "looper 2 hue is 47\n"
     ]
    }
   ],
   "source": [
    "new_lb2_hue = int(redis_get(\"lb_1_hue\")[0])\n",
    "redis_set(lb_2_hue=new_lb2_hue)\n",
    "print(\"looper 1 hue is {}\".format(int(redis_get(\"lb_1_hue\")[0])))\n",
    "print(\"looper 2 hue is {}\".format(int(redis_get(\"lb_2_hue\")[0])))"
   ]
  },
  {
   "cell_type": "code",
   "execution_count": null,
   "id": "fa8e40a3",
   "metadata": {},
   "outputs": [],
   "source": []
  },
  {
   "cell_type": "code",
   "execution_count": null,
   "id": "25d1efa3",
   "metadata": {},
   "outputs": [],
   "source": []
  },
  {
   "cell_type": "code",
   "execution_count": null,
   "id": "ea3f7178",
   "metadata": {},
   "outputs": [],
   "source": []
  },
  {
   "cell_type": "code",
   "execution_count": null,
   "id": "9957e2b5",
   "metadata": {},
   "outputs": [],
   "source": []
  },
  {
   "cell_type": "code",
   "execution_count": null,
   "id": "9c9d8788",
   "metadata": {},
   "outputs": [],
   "source": []
  },
  {
   "cell_type": "code",
   "execution_count": null,
   "id": "d24633af",
   "metadata": {},
   "outputs": [],
   "source": []
  },
  {
   "cell_type": "code",
   "execution_count": null,
   "id": "a54fffcc",
   "metadata": {},
   "outputs": [],
   "source": []
  },
  {
   "cell_type": "code",
   "execution_count": null,
   "id": "4d0f382f",
   "metadata": {},
   "outputs": [],
   "source": []
  },
  {
   "cell_type": "code",
   "execution_count": null,
   "id": "e0b1236f",
   "metadata": {},
   "outputs": [],
   "source": []
  },
  {
   "cell_type": "code",
   "execution_count": null,
   "id": "e7fa0ef9",
   "metadata": {},
   "outputs": [],
   "source": []
  },
  {
   "cell_type": "code",
   "execution_count": null,
   "id": "e7f90ec0",
   "metadata": {},
   "outputs": [],
   "source": []
  },
  {
   "cell_type": "code",
   "execution_count": null,
   "id": "25a9b3a1",
   "metadata": {},
   "outputs": [],
   "source": []
  },
  {
   "cell_type": "code",
   "execution_count": null,
   "id": "96aefe76",
   "metadata": {},
   "outputs": [],
   "source": []
  },
  {
   "cell_type": "code",
   "execution_count": null,
   "id": "f9ff6763",
   "metadata": {},
   "outputs": [],
   "source": []
  },
  {
   "cell_type": "code",
   "execution_count": null,
   "id": "18ee7dcb",
   "metadata": {},
   "outputs": [],
   "source": []
  },
  {
   "cell_type": "code",
   "execution_count": null,
   "id": "eff61c4d",
   "metadata": {},
   "outputs": [],
   "source": []
  },
  {
   "cell_type": "code",
   "execution_count": null,
   "id": "bf26b664",
   "metadata": {},
   "outputs": [],
   "source": []
  },
  {
   "cell_type": "code",
   "execution_count": null,
   "id": "3eb8ac92",
   "metadata": {},
   "outputs": [],
   "source": []
  },
  {
   "cell_type": "code",
   "execution_count": null,
   "id": "7d296dae",
   "metadata": {},
   "outputs": [],
   "source": []
  },
  {
   "cell_type": "markdown",
   "id": "f46efd97",
   "metadata": {},
   "source": [
    "# SCOLL BACK UP IT'S A MESS DOWN HERE"
   ]
  },
  {
   "cell_type": "code",
   "execution_count": 4,
   "id": "e521dd7e",
   "metadata": {},
   "outputs": [
    {
     "ename": "NameError",
     "evalue": "name 'time' is not defined",
     "output_type": "error",
     "traceback": [
      "\u001b[0;31m---------------------------------------------------------------------------\u001b[0m",
      "\u001b[0;31mNameError\u001b[0m                                 Traceback (most recent call last)",
      "\u001b[0;32m/var/folders/4j/ds_z1fgd4fx58y0h1gpz3_8m0000gn/T/ipykernel_3104/2864614704.py\u001b[0m in \u001b[0;36m<module>\u001b[0;34m\u001b[0m\n\u001b[0;32m----> 1\u001b[0;31m \u001b[0mredis_set\u001b[0m\u001b[0;34m(\u001b[0m\u001b[0mshow_flash\u001b[0m\u001b[0;34m=\u001b[0m\u001b[0;36m1\u001b[0m\u001b[0;34m)\u001b[0m\u001b[0;34m\u001b[0m\u001b[0;34m\u001b[0m\u001b[0m\n\u001b[0m\u001b[1;32m      2\u001b[0m \u001b[0mredis_set\u001b[0m\u001b[0;34m(\u001b[0m\u001b[0mshow_launcher\u001b[0m\u001b[0;34m=\u001b[0m\u001b[0;36m1\u001b[0m\u001b[0;34m)\u001b[0m\u001b[0;34m\u001b[0m\u001b[0;34m\u001b[0m\u001b[0m\n\u001b[1;32m      3\u001b[0m \u001b[0mredis_set\u001b[0m\u001b[0;34m(\u001b[0m\u001b[0mshow_lb_1\u001b[0m\u001b[0;34m=\u001b[0m\u001b[0;36m1\u001b[0m\u001b[0;34m)\u001b[0m\u001b[0;34m\u001b[0m\u001b[0;34m\u001b[0m\u001b[0m\n\u001b[1;32m      4\u001b[0m \u001b[0mredis_set\u001b[0m\u001b[0;34m(\u001b[0m\u001b[0mshow_lb_2\u001b[0m\u001b[0;34m=\u001b[0m\u001b[0;36m1\u001b[0m\u001b[0;34m)\u001b[0m\u001b[0;34m\u001b[0m\u001b[0;34m\u001b[0m\u001b[0m\n\u001b[1;32m      5\u001b[0m \u001b[0mredis_set\u001b[0m\u001b[0;34m(\u001b[0m\u001b[0mlb_1_hue\u001b[0m\u001b[0;34m=\u001b[0m\u001b[0;36m0\u001b[0m\u001b[0;34m)\u001b[0m\u001b[0;34m\u001b[0m\u001b[0;34m\u001b[0m\u001b[0m\n",
      "\u001b[0;32m/var/folders/4j/ds_z1fgd4fx58y0h1gpz3_8m0000gn/T/ipykernel_3104/338837961.py\u001b[0m in \u001b[0;36mredis_set\u001b[0;34m(**kvs)\u001b[0m\n\u001b[1;32m      3\u001b[0m \u001b[0;34m\u001b[0m\u001b[0m\n\u001b[1;32m      4\u001b[0m \u001b[0;32mdef\u001b[0m \u001b[0mredis_set\u001b[0m\u001b[0;34m(\u001b[0m\u001b[0;34m**\u001b[0m\u001b[0mkvs\u001b[0m\u001b[0;34m)\u001b[0m\u001b[0;34m:\u001b[0m\u001b[0;34m\u001b[0m\u001b[0;34m\u001b[0m\u001b[0m\n\u001b[0;32m----> 5\u001b[0;31m     \u001b[0mkvs\u001b[0m\u001b[0;34m[\u001b[0m\u001b[0;34m\"ts\"\u001b[0m\u001b[0;34m]\u001b[0m \u001b[0;34m=\u001b[0m \u001b[0mint\u001b[0m\u001b[0;34m(\u001b[0m\u001b[0mtime\u001b[0m\u001b[0;34m.\u001b[0m\u001b[0mtime\u001b[0m\u001b[0;34m(\u001b[0m\u001b[0;34m)\u001b[0m \u001b[0;34m*\u001b[0m \u001b[0;36m1000\u001b[0m\u001b[0;34m)\u001b[0m\u001b[0;34m\u001b[0m\u001b[0;34m\u001b[0m\u001b[0m\n\u001b[0m\u001b[1;32m      6\u001b[0m     \u001b[0mr\u001b[0m\u001b[0;34m.\u001b[0m\u001b[0mmset\u001b[0m\u001b[0;34m(\u001b[0m\u001b[0mkvs\u001b[0m\u001b[0;34m)\u001b[0m\u001b[0;34m\u001b[0m\u001b[0;34m\u001b[0m\u001b[0m\n\u001b[1;32m      7\u001b[0m \u001b[0;34m\u001b[0m\u001b[0m\n",
      "\u001b[0;31mNameError\u001b[0m: name 'time' is not defined"
     ]
    }
   ],
   "source": [
    "redis_set(show_flash=1)\n",
    "redis_set(show_launcher=1)\n",
    "redis_set(show_lb_1=1)\n",
    "redis_set(show_lb_2=1)\n",
    "redis_set(lb_1_hue=0)\n",
    "redis_set(lb_2_hue=128)"
   ]
  },
  {
   "cell_type": "code",
   "execution_count": null,
   "id": "55ea237e",
   "metadata": {},
   "outputs": [],
   "source": []
  },
  {
   "cell_type": "code",
   "execution_count": null,
   "id": "b30ab65c",
   "metadata": {},
   "outputs": [],
   "source": []
  },
  {
   "cell_type": "code",
   "execution_count": 6,
   "id": "4bd93d48",
   "metadata": {},
   "outputs": [],
   "source": [
    "import redis"
   ]
  },
  {
   "cell_type": "code",
   "execution_count": 7,
   "id": "dd45a112",
   "metadata": {},
   "outputs": [],
   "source": [
    "r = redis.Redis()"
   ]
  },
  {
   "cell_type": "code",
   "execution_count": 8,
   "id": "614c3ab4",
   "metadata": {},
   "outputs": [
    {
     "data": {
      "text/plain": [
       "150"
      ]
     },
     "execution_count": 8,
     "metadata": {},
     "output_type": "execute_result"
    }
   ],
   "source": [
    "r.set('bpm', 150)\n",
    "int(r.get('bpm'))"
   ]
  },
  {
   "cell_type": "code",
   "execution_count": 9,
   "id": "e9c9df16",
   "metadata": {},
   "outputs": [
    {
     "data": {
      "text/plain": [
       "[b'1653786095224', b'0', b'128', b'255']"
      ]
     },
     "execution_count": 9,
     "metadata": {},
     "output_type": "execute_result"
    }
   ],
   "source": [
    "import time\n",
    "r.mset({\"ts\": int(time.time() * 1000),\n",
    "        \"hue\": 0,\n",
    "        \"sat\": 128,\n",
    "        \"val\": 255\n",
    "       })\n",
    "r.mget((\"ts\", \"hue\", \"sat\", \"val\"))"
   ]
  },
  {
   "cell_type": "code",
   "execution_count": 10,
   "id": "cbed3578",
   "metadata": {},
   "outputs": [
    {
     "data": {
      "text/plain": [
       "[b'1653786097591', b'120', b'1', b'100']"
      ]
     },
     "execution_count": 10,
     "metadata": {},
     "output_type": "execute_result"
    }
   ],
   "source": [
    "import time\n",
    "r.mset({\"ts\": int(time.time() * 1000),\n",
    "        \"bpm\": 120,\n",
    "        \"multiple\": 1,\n",
    "        \"hue\": 100\n",
    "       })\n",
    "r.mget((\"ts\", \"bpm\", \"multiple\", \"hue\"))"
   ]
  },
  {
   "cell_type": "code",
   "execution_count": 11,
   "id": "a21befe8",
   "metadata": {},
   "outputs": [
    {
     "data": {
      "text/plain": [
       "[b'150']"
      ]
     },
     "execution_count": 11,
     "metadata": {},
     "output_type": "execute_result"
    }
   ],
   "source": [
    "def redis_get(*keys):\n",
    "    return r.mget(keys)\n",
    "\n",
    "def redis_set(**kvs):\n",
    "    kvs[\"ts\"] = int(time.time() * 1000)\n",
    "    r.mset(kvs)\n",
    "    \n",
    "redis_set(bpm=150)\n",
    "redis_get(\"bpm\")"
   ]
  },
  {
   "cell_type": "code",
   "execution_count": null,
   "id": "229fc9e1",
   "metadata": {},
   "outputs": [],
   "source": []
  },
  {
   "cell_type": "code",
   "execution_count": null,
   "id": "98d1a6b0",
   "metadata": {},
   "outputs": [],
   "source": []
  },
  {
   "cell_type": "code",
   "execution_count": null,
   "id": "d8738539",
   "metadata": {},
   "outputs": [],
   "source": []
  },
  {
   "cell_type": "code",
   "execution_count": null,
   "id": "737c7a0d",
   "metadata": {},
   "outputs": [],
   "source": []
  },
  {
   "cell_type": "code",
   "execution_count": null,
   "id": "28d7d6c7",
   "metadata": {},
   "outputs": [],
   "source": []
  },
  {
   "cell_type": "code",
   "execution_count": 12,
   "id": "5183607a",
   "metadata": {},
   "outputs": [
    {
     "data": {
      "text/plain": [
       "(1653786099435, 150, 1, 100)"
      ]
     },
     "execution_count": 12,
     "metadata": {},
     "output_type": "execute_result"
    }
   ],
   "source": [
    "tuple(map(int, r.mget((\"ts\", \"bpm\", \"multiple\", \"hue\"))))"
   ]
  },
  {
   "cell_type": "code",
   "execution_count": 133,
   "id": "5ac33675",
   "metadata": {},
   "outputs": [
    {
     "data": {
      "text/plain": [
       "0.715520953581041"
      ]
     },
     "execution_count": 133,
     "metadata": {},
     "output_type": "execute_result"
    }
   ],
   "source": [
    "import random\n",
    "hi, lo = 1.2, .7\n",
    "lo + (hi - lo) * random.random()"
   ]
  },
  {
   "cell_type": "code",
   "execution_count": 136,
   "id": "9a4b285b",
   "metadata": {},
   "outputs": [
    {
     "data": {
      "text/plain": [
       "(255, 129, 129)"
      ]
     },
     "execution_count": 136,
     "metadata": {},
     "output_type": "execute_result"
    }
   ],
   "source": [
    "import bibliopixel as bp\n",
    "bp.colors.arithmetic.color_blend((255, 0, 0), (128, 128, 128))"
   ]
  },
  {
   "cell_type": "code",
   "execution_count": 11,
   "id": "33b11065",
   "metadata": {},
   "outputs": [
    {
     "data": {
      "text/plain": [
       "(2, 2, 2)"
      ]
     },
     "execution_count": 11,
     "metadata": {},
     "output_type": "execute_result"
    }
   ],
   "source": [
    "import bibliopixel as bp\n",
    "c1 = bp.colors.conversions.hsv2rgb((0, 0, 0))\n",
    "c2 = bp.colors.conversions.hsv2rgb((0, 0, 0))\n",
    "c3 = bp.colors.conversions.hsv2rgb((0, 0, 0))\n",
    "bp.colors.arithmetic.color_blend(\n",
    "    bp.colors.arithmetic.color_blend(c1, c2),\n",
    "    c3)"
   ]
  },
  {
   "cell_type": "code",
   "execution_count": 21,
   "id": "6d5ab382",
   "metadata": {},
   "outputs": [
    {
     "data": {
      "text/plain": [
       "(0.6666666666666666, 1.0, 1.0)"
      ]
     },
     "execution_count": 21,
     "metadata": {},
     "output_type": "execute_result"
    }
   ],
   "source": [
    "bp.colors.conversions.rgb_to_hsv((0, 0, 255))"
   ]
  },
  {
   "cell_type": "code",
   "execution_count": 36,
   "id": "3b8f6bed",
   "metadata": {},
   "outputs": [],
   "source": [
    "from animations import strips"
   ]
  },
  {
   "cell_type": "code",
   "execution_count": 39,
   "id": "d80f0530",
   "metadata": {},
   "outputs": [
    {
     "ename": "TypeError",
     "evalue": "__init__() missing 1 required positional argument: 'layout'",
     "output_type": "error",
     "traceback": [
      "\u001b[0;31m---------------------------------------------------------------------------\u001b[0m",
      "\u001b[0;31mTypeError\u001b[0m                                 Traceback (most recent call last)",
      "\u001b[0;32m/var/folders/4j/ds_z1fgd4fx58y0h1gpz3_8m0000gn/T/ipykernel_957/1719110433.py\u001b[0m in \u001b[0;36m<module>\u001b[0;34m\u001b[0m\n\u001b[0;32m----> 1\u001b[0;31m \u001b[0mstrips\u001b[0m\u001b[0;34m.\u001b[0m\u001b[0mCombo\u001b[0m\u001b[0;34m(\u001b[0m\u001b[0;34m)\u001b[0m\u001b[0;34m\u001b[0m\u001b[0;34m\u001b[0m\u001b[0m\n\u001b[0m",
      "\u001b[0;32m~/src/wonderdomicile/animations/strips.py\u001b[0m in \u001b[0;36m__init__\u001b[0;34m(self, bpm, multiple, *args, **kwds)\u001b[0m\n\u001b[1;32m    272\u001b[0m                  \u001b[0mmultiple\u001b[0m\u001b[0;34m=\u001b[0m\u001b[0;36m1\u001b[0m\u001b[0;34m,\u001b[0m\u001b[0;34m\u001b[0m\u001b[0;34m\u001b[0m\u001b[0m\n\u001b[1;32m    273\u001b[0m                  **kwds):\n\u001b[0;32m--> 274\u001b[0;31m         \u001b[0msuper\u001b[0m\u001b[0;34m(\u001b[0m\u001b[0;34m)\u001b[0m\u001b[0;34m.\u001b[0m\u001b[0m__init__\u001b[0m\u001b[0;34m(\u001b[0m\u001b[0;34m*\u001b[0m\u001b[0margs\u001b[0m\u001b[0;34m,\u001b[0m \u001b[0;34m**\u001b[0m\u001b[0mkwds\u001b[0m\u001b[0;34m)\u001b[0m\u001b[0;34m\u001b[0m\u001b[0;34m\u001b[0m\u001b[0m\n\u001b[0m\u001b[1;32m    275\u001b[0m         \u001b[0mself\u001b[0m\u001b[0;34m.\u001b[0m\u001b[0mclock\u001b[0m \u001b[0;34m=\u001b[0m \u001b[0mClock\u001b[0m\u001b[0;34m(\u001b[0m\u001b[0mbpm\u001b[0m\u001b[0;34m,\u001b[0m \u001b[0mmultiple\u001b[0m\u001b[0;34m)\u001b[0m\u001b[0;34m\u001b[0m\u001b[0;34m\u001b[0m\u001b[0m\n\u001b[1;32m    276\u001b[0m         \u001b[0mself\u001b[0m\u001b[0;34m.\u001b[0m\u001b[0mclock2\u001b[0m \u001b[0;34m=\u001b[0m \u001b[0mClock\u001b[0m\u001b[0;34m(\u001b[0m\u001b[0mint\u001b[0m\u001b[0;34m(\u001b[0m\u001b[0;36m3\u001b[0m \u001b[0;34m/\u001b[0m \u001b[0;36m2\u001b[0m \u001b[0;34m*\u001b[0m \u001b[0mbpm\u001b[0m\u001b[0;34m)\u001b[0m\u001b[0;34m,\u001b[0m \u001b[0;36m2\u001b[0m\u001b[0;34m)\u001b[0m\u001b[0;34m\u001b[0m\u001b[0;34m\u001b[0m\u001b[0m\n",
      "\u001b[0;31mTypeError\u001b[0m: __init__() missing 1 required positional argument: 'layout'"
     ]
    }
   ],
   "source": [
    "strips.Combo()"
   ]
  },
  {
   "cell_type": "code",
   "execution_count": 2,
   "id": "572ad0f0",
   "metadata": {},
   "outputs": [
    {
     "data": {
      "text/plain": [
       "4"
      ]
     },
     "execution_count": 2,
     "metadata": {},
     "output_type": "execute_result"
    }
   ],
   "source": [
    "import bisect\n",
    "bisect.bisect_left(range(10), 4)"
   ]
  },
  {
   "cell_type": "code",
   "execution_count": 38,
   "id": "96490728",
   "metadata": {},
   "outputs": [
    {
     "name": "stdout",
     "output_type": "stream",
     "text": [
      "((1, 2, 3), (11, 22, 33), (111, 222, 333), (1111, 2222, 3333))\n",
      "((4, 5, 6), (44, 55, 66), (444, 555, 666), (4444, 5555, 6666))\n",
      "((7, 8, 9), (77, 88, 99), (777, 888, 999), (7777, 8888, 9999))\n"
     ]
    },
    {
     "data": {
      "text/plain": [
       "[(1111, 2468, 3333), (4444, 6170, 6666), (7777, 9872, 9999)]"
      ]
     },
     "execution_count": 38,
     "metadata": {},
     "output_type": "execute_result"
    }
   ],
   "source": [
    "import math\n",
    "ab = [[(1, 2, 3), (4, 5, 6), (7, 8, 9)],\n",
    "      [(11, 22, 33), (44, 55, 66), (77, 88, 99)],\n",
    "      [(111, 222, 333), (444, 555, 666), (777, 888, 999)],\n",
    "      [(1111, 2222, 3333), (4444, 5555, 6666), (7777, 8888, 9999)]]\n",
    "for hsvs_t in list(zip(*ab)):\n",
    "    print(hsvs_t)\n",
    "    hs, ss, vs = zip(*hsvs)\n",
    "    h = max(hs)\n",
    "    s = sum(ss) // len(ss)\n",
    "    v = max(vs)\n",
    "#     print(h, s, v)\n",
    "    \n",
    "[(max(hues), sum(sats), max(vals)) for hues, sats, vals in (zip(*hsvs_t) for hsvs_t in (hsvs for hsvs in zip(*ab)))]\n",
    "# [[(max(x[0]), sum(x[1]) // len(x[1]), max(x[2])) for x in zip(*hsvs)] for hsvs in list(zip(*ab))]"
   ]
  },
  {
   "cell_type": "code",
   "execution_count": 39,
   "id": "d2e3cc95",
   "metadata": {},
   "outputs": [
    {
     "data": {
      "text/plain": [
       "[(1, 2, 3), (4, 5, 6), (1, 2, 3), (4, 5, 6)]"
      ]
     },
     "execution_count": 39,
     "metadata": {},
     "output_type": "execute_result"
    }
   ],
   "source": [
    "aa = [(1, 2, 3), (4, 5, 6)]\n",
    "aa * 2"
   ]
  },
  {
   "cell_type": "code",
   "execution_count": 40,
   "id": "519208dc",
   "metadata": {},
   "outputs": [
    {
     "data": {
      "text/plain": [
       "[[(1, 2, 3), (4, 5, 6)], [(1, 2, 3), (4, 5, 6)]]"
      ]
     },
     "execution_count": 40,
     "metadata": {},
     "output_type": "execute_result"
    }
   ],
   "source": [
    "[aa, aa]"
   ]
  },
  {
   "cell_type": "code",
   "execution_count": 42,
   "id": "52623bc7",
   "metadata": {},
   "outputs": [
    {
     "data": {
      "text/plain": [
       "[]"
      ]
     },
     "execution_count": 42,
     "metadata": {},
     "output_type": "execute_result"
    }
   ],
   "source": [
    "list(range(5, 5))"
   ]
  },
  {
   "cell_type": "code",
   "execution_count": 48,
   "id": "862eeda7",
   "metadata": {},
   "outputs": [
    {
     "data": {
      "text/plain": [
       "0"
      ]
     },
     "execution_count": 48,
     "metadata": {},
     "output_type": "execute_result"
    }
   ],
   "source": [
    "import random\n",
    "random.randint(0, 1)"
   ]
  },
  {
   "cell_type": "code",
   "execution_count": 63,
   "id": "ad30821a",
   "metadata": {},
   "outputs": [
    {
     "data": {
      "text/plain": [
       "11"
      ]
     },
     "execution_count": 63,
     "metadata": {},
     "output_type": "execute_result"
    }
   ],
   "source": [
    "# h1=1 h2=11   ## add h1\n",
    "(11 - 1) % 255\n",
    "# = 10 < 128 so\n",
    "1 + 10"
   ]
  },
  {
   "cell_type": "code",
   "execution_count": 62,
   "id": "2e8496e9",
   "metadata": {},
   "outputs": [
    {
     "data": {
      "text/plain": [
       "1"
      ]
     },
     "execution_count": 62,
     "metadata": {},
     "output_type": "execute_result"
    }
   ],
   "source": [
    "# h1=11 h2=1   ## add h2\n",
    "(1 - 11) % 255\n",
    "# = 245 > 128 so\n",
    "11 - (255 - 245)"
   ]
  },
  {
   "cell_type": "code",
   "execution_count": 66,
   "id": "a69e1735",
   "metadata": {},
   "outputs": [
    {
     "data": {
      "text/plain": [
       "250"
      ]
     },
     "execution_count": 66,
     "metadata": {},
     "output_type": "execute_result"
    }
   ],
   "source": [
    "#h1=10, h2=250  ## add h2?\n",
    "(250 - 10) % 255\n",
    "# = 240 > 128 so\n",
    "(10 - (255 - 240)) % 255"
   ]
  },
  {
   "cell_type": "code",
   "execution_count": 67,
   "id": "62e22a8c",
   "metadata": {},
   "outputs": [
    {
     "data": {
      "text/plain": [
       "10"
      ]
     },
     "execution_count": 67,
     "metadata": {},
     "output_type": "execute_result"
    }
   ],
   "source": [
    "#h1=250, h2=10  ## add h1\n",
    "(10 - 250) % 255\n",
    "# = 15 < 128 so\n",
    "(250 + 15) % 255"
   ]
  },
  {
   "cell_type": "code",
   "execution_count": 68,
   "id": "752b7a64",
   "metadata": {},
   "outputs": [],
   "source": [
    "def blend_h(h1, h2, ratio=.5):\n",
    "        diff = (h2 - h1) % 255\n",
    "        if diff % 255 <= 128:\n",
    "            moveby = int((1 - ratio) * diff)\n",
    "            return (h1 + moveby) % 255\n",
    "        else:\n",
    "            diff = 255 - diff\n",
    "            moveby = int((1 - ratio) * diff)\n",
    "            return (h1 - moveby) % 255"
   ]
  },
  {
   "cell_type": "code",
   "execution_count": 72,
   "id": "d3f14d58",
   "metadata": {},
   "outputs": [
    {
     "data": {
      "text/plain": [
       "1"
      ]
     },
     "execution_count": 72,
     "metadata": {},
     "output_type": "execute_result"
    }
   ],
   "source": [
    "blend_h(2, 254)"
   ]
  },
  {
   "cell_type": "code",
   "execution_count": 76,
   "id": "fcbff10b",
   "metadata": {},
   "outputs": [
    {
     "data": {
      "text/plain": [
       "[[0, 1, 1, 2, 2, 3, 3, 4, 4, 5],\n",
       " [0, 1, 2, 2, 3, 3, 4, 4, 5, 5],\n",
       " [1, 1, 2, 3, 3, 4, 4, 5, 5, 6],\n",
       " [1, 2, 2, 3, 4, 4, 5, 5, 6, 6],\n",
       " [2, 2, 3, 3, 4, 5, 5, 6, 6, 7],\n",
       " [2, 3, 3, 4, 4, 5, 6, 6, 7, 7],\n",
       " [3, 3, 4, 4, 5, 5, 6, 7, 7, 8],\n",
       " [3, 4, 4, 5, 5, 6, 6, 7, 8, 8],\n",
       " [4, 4, 5, 5, 6, 6, 7, 7, 8, 9],\n",
       " [4, 5, 5, 6, 6, 7, 7, 8, 8, 9]]"
      ]
     },
     "execution_count": 76,
     "metadata": {},
     "output_type": "execute_result"
    }
   ],
   "source": [
    "[[blend_h(x, y) for x in range(255)] for y in range(10)]"
   ]
  },
  {
   "cell_type": "code",
   "execution_count": 88,
   "id": "e52cbb41",
   "metadata": {},
   "outputs": [
    {
     "data": {
      "text/plain": [
       "2"
      ]
     },
     "execution_count": 88,
     "metadata": {},
     "output_type": "execute_result"
    }
   ],
   "source": [
    "blend_h(10, 180, .9)"
   ]
  },
  {
   "cell_type": "code",
   "execution_count": 91,
   "id": "a4dcc00b",
   "metadata": {},
   "outputs": [
    {
     "data": {
      "text/plain": [
       "[]"
      ]
     },
     "execution_count": 91,
     "metadata": {},
     "output_type": "execute_result"
    }
   ],
   "source": [
    "list(range(1, 1))"
   ]
  },
  {
   "cell_type": "code",
   "execution_count": null,
   "id": "7620317c",
   "metadata": {},
   "outputs": [],
   "source": []
  },
  {
   "cell_type": "code",
   "execution_count": null,
   "id": "9abfc4ac",
   "metadata": {},
   "outputs": [],
   "source": []
  },
  {
   "cell_type": "code",
   "execution_count": 2,
   "id": "444bad7a",
   "metadata": {},
   "outputs": [
    {
     "data": {
      "text/plain": [
       "[0,\n",
       " 10,\n",
       " 20,\n",
       " 30,\n",
       " 40,\n",
       " 50,\n",
       " 60,\n",
       " 70,\n",
       " 80,\n",
       " 90,\n",
       " 100,\n",
       " 110,\n",
       " 120,\n",
       " 130,\n",
       " 140,\n",
       " 150,\n",
       " 160,\n",
       " 170,\n",
       " 180,\n",
       " 190,\n",
       " 200,\n",
       " 210,\n",
       " 220,\n",
       " 230,\n",
       " 240,\n",
       " 250]"
      ]
     },
     "execution_count": 2,
     "metadata": {},
     "output_type": "execute_result"
    }
   ],
   "source": [
    "list(range(0, 255, 10))"
   ]
  },
  {
   "cell_type": "code",
   "execution_count": null,
   "id": "2c7097cb",
   "metadata": {},
   "outputs": [],
   "source": []
  },
  {
   "cell_type": "code",
   "execution_count": null,
   "id": "1be19552",
   "metadata": {},
   "outputs": [],
   "source": []
  }
 ],
 "metadata": {
  "kernelspec": {
   "display_name": "Python 3 (ipykernel)",
   "language": "python",
   "name": "python3"
  },
  "language_info": {
   "codemirror_mode": {
    "name": "ipython",
    "version": 3
   },
   "file_extension": ".py",
   "mimetype": "text/x-python",
   "name": "python",
   "nbconvert_exporter": "python",
   "pygments_lexer": "ipython3",
   "version": "3.7.3"
  }
 },
 "nbformat": 4,
 "nbformat_minor": 5
}
